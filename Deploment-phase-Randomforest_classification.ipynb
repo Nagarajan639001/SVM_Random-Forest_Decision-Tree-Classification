{
 "cells": [
  {
   "cell_type": "code",
   "execution_count": null,
   "id": "9709691a-b095-4fdd-963d-51ab828d49d1",
   "metadata": {},
   "outputs": [],
   "source": [
    "#End uses"
   ]
  },
  {
   "cell_type": "code",
   "execution_count": null,
   "id": "6b6959fa-1268-4725-af7e-dbaf4a2bbc81",
   "metadata": {},
   "outputs": [],
   "source": [
    "import pickle"
   ]
  },
  {
   "cell_type": "code",
   "execution_count": 1,
   "id": "795423f7-3050-4927-a309-3608a1f4afd2",
   "metadata": {},
   "outputs": [
    {
     "ename": "NameError",
     "evalue": "name 'pickle' is not defined",
     "output_type": "error",
     "traceback": [
      "\u001b[1;31m---------------------------------------------------------------------------\u001b[0m",
      "\u001b[1;31mNameError\u001b[0m                                 Traceback (most recent call last)",
      "Cell \u001b[1;32mIn[1], line 1\u001b[0m\n\u001b[1;32m----> 1\u001b[0m loaded_model\u001b[38;5;241m=\u001b[39mpickle\u001b[38;5;241m.\u001b[39mload(\u001b[38;5;28mopen\u001b[39m(\u001b[38;5;124m\"\u001b[39m\u001b[38;5;124mFinalized_model_RandomForest_Classification.sav\u001b[39m\u001b[38;5;124m\"\u001b[39m,\u001b[38;5;124m'\u001b[39m\u001b[38;5;124mrb\u001b[39m\u001b[38;5;124m'\u001b[39m))\n\u001b[0;32m      2\u001b[0m result \u001b[38;5;241m=\u001b[39m loaded_model\u001b[38;5;241m.\u001b[39mpredict([[\u001b[38;5;241m40\u001b[39m,\u001b[38;5;241m300\u001b[39m,\u001b[38;5;241m1\u001b[39m]])\n",
      "\u001b[1;31mNameError\u001b[0m: name 'pickle' is not defined"
     ]
    }
   ],
   "source": [
    "loaded_model=pickle.load(open(\"Finalized_model_RandomForest_Classification.sav\",'rb'))\n",
    "result = loaded_model.predict([[40,300,1]])"
   ]
  },
  {
   "cell_type": "code",
   "execution_count": null,
   "id": "2fcd7774-8049-4f2f-b6e8-38fbce80c25a",
   "metadata": {},
   "outputs": [],
   "source": [
    "result"
   ]
  },
  {
   "cell_type": "code",
   "execution_count": null,
   "id": "b34f4ab4-2dda-4f4a-a2ba-f716d2271dd6",
   "metadata": {},
   "outputs": [],
   "source": []
  }
 ],
 "metadata": {
  "kernelspec": {
   "display_name": "Python 3 (ipykernel)",
   "language": "python",
   "name": "python3"
  },
  "language_info": {
   "codemirror_mode": {
    "name": "ipython",
    "version": 3
   },
   "file_extension": ".py",
   "mimetype": "text/x-python",
   "name": "python",
   "nbconvert_exporter": "python",
   "pygments_lexer": "ipython3",
   "version": "3.12.4"
  }
 },
 "nbformat": 4,
 "nbformat_minor": 5
}
